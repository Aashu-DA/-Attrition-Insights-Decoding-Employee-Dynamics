{
  "nbformat": 4,
  "nbformat_minor": 0,
  "metadata": {
    "colab": {
      "provenance": [],
      "authorship_tag": "ABX9TyN2/HzKsgn9qVpzfHiIpu5A",
      "include_colab_link": true
    },
    "kernelspec": {
      "name": "python3",
      "display_name": "Python 3"
    },
    "language_info": {
      "name": "python"
    }
  },
  "cells": [
    {
      "cell_type": "markdown",
      "metadata": {
        "id": "view-in-github",
        "colab_type": "text"
      },
      "source": [
        "<a href=\"https://colab.research.google.com/github/Aashu-DA/-Attrition-Insights-Decoding-Employee-Dynamics/blob/main/Untitled3.ipynb\" target=\"_parent\"><img src=\"https://colab.research.google.com/assets/colab-badge.svg\" alt=\"Open In Colab\"/></a>"
      ]
    },
    {
      "cell_type": "code",
      "execution_count": 1,
      "metadata": {
        "colab": {
          "base_uri": "https://localhost:8080/"
        },
        "id": "eJeSQq4-GSlr",
        "outputId": "e298ea28-11bb-4ada-b4a5-bb5e428086f0"
      },
      "outputs": [
        {
          "output_type": "stream",
          "name": "stdout",
          "text": [
            "Mounted at /content/drive\n"
          ]
        }
      ],
      "source": [
        "from google.colab import drive\n",
        "drive.mount('/content/drive')"
      ]
    },
    {
      "cell_type": "code",
      "source": [
        "%cd '/content/drive/MyDrive'"
      ],
      "metadata": {
        "colab": {
          "base_uri": "https://localhost:8080/"
        },
        "id": "L_-dHRjRHA6h",
        "outputId": "ca0c6028-373c-489a-c122-f1d3a5d0a209"
      },
      "execution_count": 3,
      "outputs": [
        {
          "output_type": "stream",
          "name": "stdout",
          "text": [
            "/content/drive/MyDrive\n"
          ]
        }
      ]
    },
    {
      "cell_type": "code",
      "source": [
        "import pandas as pd\n",
        "import matplotlib.pyplot as plt\n",
        "import seaborn as sns"
      ],
      "metadata": {
        "id": "Ml1jK_WsHK-v"
      },
      "execution_count": 4,
      "outputs": []
    },
    {
      "cell_type": "code",
      "source": [
        "df = pd.read_csv('Attrition_data.csv')"
      ],
      "metadata": {
        "id": "euI6wt2UHQWt"
      },
      "execution_count": 7,
      "outputs": []
    },
    {
      "cell_type": "code",
      "source": [
        "print(df.info())\n",
        "print(df.describe())"
      ],
      "metadata": {
        "colab": {
          "base_uri": "https://localhost:8080/"
        },
        "id": "CbJlM8SHHtTn",
        "outputId": "65175060-cf47-4a56-c20e-929af6b81378"
      },
      "execution_count": 8,
      "outputs": [
        {
          "output_type": "stream",
          "name": "stdout",
          "text": [
            "<class 'pandas.core.frame.DataFrame'>\n",
            "RangeIndex: 4410 entries, 0 to 4409\n",
            "Data columns (total 29 columns):\n",
            " #   Column                   Non-Null Count  Dtype  \n",
            "---  ------                   --------------  -----  \n",
            " 0   EmployeeID               4410 non-null   int64  \n",
            " 1   Age                      4410 non-null   int64  \n",
            " 2   Attrition                4410 non-null   object \n",
            " 3   BusinessTravel           4410 non-null   object \n",
            " 4   Department               4410 non-null   object \n",
            " 5   DistanceFromHome         4410 non-null   int64  \n",
            " 6   Education                4410 non-null   int64  \n",
            " 7   EducationField           4410 non-null   object \n",
            " 8   EmployeeCount            4410 non-null   int64  \n",
            " 9   Gender                   4410 non-null   object \n",
            " 10  JobLevel                 4410 non-null   int64  \n",
            " 11  JobRole                  4410 non-null   object \n",
            " 12  MaritalStatus            4410 non-null   object \n",
            " 13  MonthlyIncome            4410 non-null   int64  \n",
            " 14  NumCompaniesWorked       4391 non-null   float64\n",
            " 15  Over18                   4410 non-null   object \n",
            " 16  PercentSalaryHike        4410 non-null   int64  \n",
            " 17  StandardHours            4410 non-null   int64  \n",
            " 18  StockOptionLevel         4410 non-null   int64  \n",
            " 19  TotalWorkingYears        4401 non-null   float64\n",
            " 20  TrainingTimesLastYear    4410 non-null   int64  \n",
            " 21  YearsAtCompany           4410 non-null   int64  \n",
            " 22  YearsSinceLastPromotion  4410 non-null   int64  \n",
            " 23  YearsWithCurrManager     4410 non-null   int64  \n",
            " 24  EnvironmentSatisfaction  4385 non-null   float64\n",
            " 25  JobSatisfaction          4390 non-null   float64\n",
            " 26  WorkLifeBalance          4372 non-null   float64\n",
            " 27  JobInvolvement           4410 non-null   int64  \n",
            " 28  PerformanceRating        4410 non-null   int64  \n",
            "dtypes: float64(5), int64(16), object(8)\n",
            "memory usage: 999.3+ KB\n",
            "None\n",
            "        EmployeeID          Age  DistanceFromHome    Education  EmployeeCount  \\\n",
            "count  4410.000000  4410.000000       4410.000000  4410.000000         4410.0   \n",
            "mean   2205.500000    36.923810          9.192517     2.912925            1.0   \n",
            "std    1273.201673     9.133301          8.105026     1.023933            0.0   \n",
            "min       1.000000    18.000000          1.000000     1.000000            1.0   \n",
            "25%    1103.250000    30.000000          2.000000     2.000000            1.0   \n",
            "50%    2205.500000    36.000000          7.000000     3.000000            1.0   \n",
            "75%    3307.750000    43.000000         14.000000     4.000000            1.0   \n",
            "max    4410.000000    60.000000         29.000000     5.000000            1.0   \n",
            "\n",
            "          JobLevel  MonthlyIncome  NumCompaniesWorked  PercentSalaryHike  \\\n",
            "count  4410.000000    4410.000000         4391.000000        4410.000000   \n",
            "mean      2.063946   65029.312925            2.694830          15.209524   \n",
            "std       1.106689   47068.888559            2.498887           3.659108   \n",
            "min       1.000000   10090.000000            0.000000          11.000000   \n",
            "25%       1.000000   29110.000000            1.000000          12.000000   \n",
            "50%       2.000000   49190.000000            2.000000          14.000000   \n",
            "75%       3.000000   83800.000000            4.000000          18.000000   \n",
            "max       5.000000  199990.000000            9.000000          25.000000   \n",
            "\n",
            "       StandardHours  ...  TotalWorkingYears  TrainingTimesLastYear  \\\n",
            "count         4410.0  ...        4401.000000            4410.000000   \n",
            "mean             8.0  ...          11.279936               2.799320   \n",
            "std              0.0  ...           7.782222               1.288978   \n",
            "min              8.0  ...           0.000000               0.000000   \n",
            "25%              8.0  ...           6.000000               2.000000   \n",
            "50%              8.0  ...          10.000000               3.000000   \n",
            "75%              8.0  ...          15.000000               3.000000   \n",
            "max              8.0  ...          40.000000               6.000000   \n",
            "\n",
            "       YearsAtCompany  YearsSinceLastPromotion  YearsWithCurrManager  \\\n",
            "count     4410.000000              4410.000000           4410.000000   \n",
            "mean         7.008163                 2.187755              4.123129   \n",
            "std          6.125135                 3.221699              3.567327   \n",
            "min          0.000000                 0.000000              0.000000   \n",
            "25%          3.000000                 0.000000              2.000000   \n",
            "50%          5.000000                 1.000000              3.000000   \n",
            "75%          9.000000                 3.000000              7.000000   \n",
            "max         40.000000                15.000000             17.000000   \n",
            "\n",
            "       EnvironmentSatisfaction  JobSatisfaction  WorkLifeBalance  \\\n",
            "count              4385.000000      4390.000000      4372.000000   \n",
            "mean                  2.723603         2.728246         2.761436   \n",
            "std                   1.092756         1.101253         0.706245   \n",
            "min                   1.000000         1.000000         1.000000   \n",
            "25%                   2.000000         2.000000         2.000000   \n",
            "50%                   3.000000         3.000000         3.000000   \n",
            "75%                   4.000000         4.000000         3.000000   \n",
            "max                   4.000000         4.000000         4.000000   \n",
            "\n",
            "       JobInvolvement  PerformanceRating  \n",
            "count     4410.000000        4410.000000  \n",
            "mean         2.729932           3.153741  \n",
            "std          0.711400           0.360742  \n",
            "min          1.000000           3.000000  \n",
            "25%          2.000000           3.000000  \n",
            "50%          3.000000           3.000000  \n",
            "75%          3.000000           3.000000  \n",
            "max          4.000000           4.000000  \n",
            "\n",
            "[8 rows x 21 columns]\n"
          ]
        }
      ]
    },
    {
      "cell_type": "code",
      "source": [
        "#Replacing missing values with mean for numerical columns and mode for categorical columns\n",
        "for col in df.columns:\n",
        "    if df[col].dtype == 'object':\n",
        "        df[col].fillna(df[col].mode()[0], inplace=True)\n",
        "    else:\n",
        "        df[col].fillna(df[col].mean(), inplace=True)"
      ],
      "metadata": {
        "id": "UILZVZbXHxJm"
      },
      "execution_count": 9,
      "outputs": []
    },
    {
      "cell_type": "code",
      "source": [
        "#Attrition Distribution\n",
        "sns.countplot(x='Attrition', data=df)\n",
        "plt.show()"
      ],
      "metadata": {
        "colab": {
          "base_uri": "https://localhost:8080/",
          "height": 449
        },
        "id": "884B8xDDH4Xe",
        "outputId": "d7d15fab-b296-4663-b77a-4c825e72529a"
      },
      "execution_count": 10,
      "outputs": [
        {
          "output_type": "display_data",
          "data": {
            "text/plain": [
              "<Figure size 640x480 with 1 Axes>"
            ],
            "image/png": "[encoded data removed]"
          },
          "metadata": {}
        }
      ]
    },
    {
      "cell_type": "code",
      "source": [
        "#Age vs. Attrition\n",
        "sns.boxplot(x='Attrition', y='Age', data=df)\n",
        "plt.show()"
      ],
      "metadata": {
        "colab": {
          "base_uri": "https://localhost:8080/",
          "height": 449
        },
        "id": "SgATSC98H9NN",
        "outputId": "2c041835-b61c-4587-f962-bd71e52a1040"
      },
      "execution_count": 11,
      "outputs": [
        {
          "output_type": "display_data",
          "data": {
            "text/plain": [
              "<Figure size 640x480 with 1 Axes>"
            ],
            "image/png": "[encoded data removed]"
          },
          "metadata": {}
        }
      ]
    },
    {
      "cell_type": "code",
      "source": [
        "#Interactive Dashboard (using Plotly/Dash)\n",
        "!pip install dash\n",
        "import dash\n",
        "import dash_core_components as dcc\n",
        "import dash_html_components as html\n",
        "\n",
        "app = dash.Dash(__name__)\n",
        "\n",
        "app.layout = html.Div(children=[\n",
        "    html.H1(children='XYZ Company Attrition Analysis'),\n",
        "\n",
        "    dcc.Graph(\n",
        "        id='attrition-pie-chart',\n",
        "        figure={\n",
        "            'data': [\n",
        "                {'labels': ['Yes', 'No'], 'values': df['Attrition'].value_counts(), 'type': 'pie'},\n",
        "            ],\n",
        "            'layout': {'title': 'Attrition Distribution'},\n",
        "        }\n",
        "    ),\n",
        "])\n",
        "\n",
        "if __name__ == '__main__':\n",
        "    app.run_server(debug=True)"
      ],
      "metadata": {
        "colab": {
          "base_uri": "https://localhost:8080/",
          "height": 1000
        },
        "id": "zWwfmduqIFdj",
        "outputId": "c3a16cac-02cf-48b1-b331-48a444344be9"
      },
      "execution_count": 15,
      "outputs": [
        {
          "output_type": "stream",
          "name": "stdout",
          "text": [
            "Collecting dash\n",
            "  Downloading dash-2.16.1-py3-none-any.whl (10.2 MB)\n",
            "\u001b[2K     \u001b[90m━━━━━━━━━━━━━━━━━━━━━━━━━━━━━━━━━━━━━━━━\u001b[0m \u001b[32m10.2/10.2 MB\u001b[0m \u001b[31m18.8 MB/s\u001b[0m eta \u001b[36m0:00:00\u001b[0m\n",
            "\u001b[?25hRequirement already satisfied: Flask<3.1,>=1.0.4 in /usr/local/lib/python3.10/dist-packages (from dash) (2.2.5)\n",
            "Requirement already satisfied: Werkzeug<3.1 in /usr/local/lib/python3.10/dist-packages (from dash) (3.0.1)\n",
            "Requirement already satisfied: plotly>=5.0.0 in /usr/local/lib/python3.10/dist-packages (from dash) (5.15.0)\n",
            "Collecting dash-html-components==2.0.0 (from dash)\n",
            "  Downloading dash_html_components-2.0.0-py3-none-any.whl (4.1 kB)\n",
            "Collecting dash-core-components==2.0.0 (from dash)\n",
            "  Downloading dash_core_components-2.0.0-py3-none-any.whl (3.8 kB)\n",
            "Collecting dash-table==5.0.0 (from dash)\n",
            "  Downloading dash_table-5.0.0-py3-none-any.whl (3.9 kB)\n",
            "Requirement already satisfied: importlib-metadata in /usr/local/lib/python3.10/dist-packages (from dash) (7.0.1)\n",
            "Requirement already satisfied: typing-extensions>=4.1.1 in /usr/local/lib/python3.10/dist-packages (from dash) (4.10.0)\n",
            "Requirement already satisfied: requests in /usr/local/lib/python3.10/dist-packages (from dash) (2.31.0)\n",
            "Collecting retrying (from dash)\n",
            "  Downloading retrying-1.3.4-py3-none-any.whl (11 kB)\n",
            "Requirement already satisfied: nest-asyncio in /usr/local/lib/python3.10/dist-packages (from dash) (1.6.0)\n",
            "Requirement already satisfied: setuptools in /usr/local/lib/python3.10/dist-packages (from dash) (67.7.2)\n",
            "Requirement already satisfied: Jinja2>=3.0 in /usr/local/lib/python3.10/dist-packages (from Flask<3.1,>=1.0.4->dash) (3.1.3)\n",
            "Requirement already satisfied: itsdangerous>=2.0 in /usr/local/lib/python3.10/dist-packages (from Flask<3.1,>=1.0.4->dash) (2.1.2)\n",
            "Requirement already satisfied: click>=8.0 in /usr/local/lib/python3.10/dist-packages (from Flask<3.1,>=1.0.4->dash) (8.1.7)\n",
            "Requirement already satisfied: tenacity>=6.2.0 in /usr/local/lib/python3.10/dist-packages (from plotly>=5.0.0->dash) (8.2.3)\n",
            "Requirement already satisfied: packaging in /usr/local/lib/python3.10/dist-packages (from plotly>=5.0.0->dash) (23.2)\n",
            "Requirement already satisfied: MarkupSafe>=2.1.1 in /usr/local/lib/python3.10/dist-packages (from Werkzeug<3.1->dash) (2.1.5)\n",
            "Requirement already satisfied: zipp>=0.5 in /usr/local/lib/python3.10/dist-packages (from importlib-metadata->dash) (3.17.0)\n",
            "Requirement already satisfied: charset-normalizer<4,>=2 in /usr/local/lib/python3.10/dist-packages (from requests->dash) (3.3.2)\n",
            "Requirement already satisfied: idna<4,>=2.5 in /usr/local/lib/python3.10/dist-packages (from requests->dash) (3.6)\n",
            "Requirement already satisfied: urllib3<3,>=1.21.1 in /usr/local/lib/python3.10/dist-packages (from requests->dash) (2.0.7)\n",
            "Requirement already satisfied: certifi>=2017.4.17 in /usr/local/lib/python3.10/dist-packages (from requests->dash) (2024.2.2)\n",
            "Requirement already satisfied: six>=1.7.0 in /usr/local/lib/python3.10/dist-packages (from retrying->dash) (1.16.0)\n",
            "Installing collected packages: dash-table, dash-html-components, dash-core-components, retrying, dash\n",
            "Successfully installed dash-2.16.1 dash-core-components-2.0.0 dash-html-components-2.0.0 dash-table-5.0.0 retrying-1.3.4\n"
          ]
        },
        {
          "output_type": "stream",
          "name": "stderr",
          "text": [
            "<ipython-input-15-8b27472582d2>:4: UserWarning: \n",
            "The dash_core_components package is deprecated. Please replace\n",
            "`import dash_core_components as dcc` with `from dash import dcc`\n",
            "  import dash_core_components as dcc\n",
            "<ipython-input-15-8b27472582d2>:5: UserWarning: \n",
            "The dash_html_components package is deprecated. Please replace\n",
            "`import dash_html_components as html` with `from dash import html`\n",
            "  import dash_html_components as html\n"
          ]
        },
        {
          "output_type": "display_data",
          "data": {
            "text/plain": [
              "<IPython.core.display.Javascript object>"
            ],
            "application/javascript": [
              "(async (port, path, width, height, cache, element) => {\n",
              "    if (!google.colab.kernel.accessAllowed && !cache) {\n",
              "      return;\n",
              "    }\n",
              "    element.appendChild(document.createTextNode(''));\n",
              "    const url = await google.colab.kernel.proxyPort(port, {cache});\n",
              "    const iframe = document.createElement('iframe');\n",
              "    iframe.src = new URL(path, url).toString();\n",
              "    iframe.height = height;\n",
              "    iframe.width = width;\n",
              "    iframe.style.border = 0;\n",
              "    iframe.allow = [\n",
              "        'accelerometer',\n",
              "        'autoplay',\n",
              "        'camera',\n",
              "        'clipboard-read',\n",
              "        'clipboard-write',\n",
              "        'gyroscope',\n",
              "        'magnetometer',\n",
              "        'microphone',\n",
              "        'serial',\n",
              "        'usb',\n",
              "        'xr-spatial-tracking',\n",
              "    ].join('; ');\n",
              "    element.appendChild(iframe);\n",
              "  })(8050, \"/\", \"100%\", 650, false, window.element)"
            ]
          },
          "metadata": {}
        }
      ]
    }
  ]
}